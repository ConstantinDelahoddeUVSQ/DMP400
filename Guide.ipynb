{
 "cells": [
  {
   "cell_type": "markdown",
   "metadata": {},
   "source": [
    "<h1><center>Guide</center></h1>\n",
    "\n",
    "\n",
    "Notre objectif est de coder chaque partie du SIMS indépendamment l'une de l'autre. Dans cette mesure le projet est divisé en 2 parties (ou plus) indépendantes (les 2 parties du SIMS que l'on peut retrouver dans le diagramme : Violette (déviation électrique) et Verte (déviation magnétique). Nous pourrons également faire en option le reste des parties privées de la partie rose), et les utilisateurs pourront aborder le projet dans l'ordre souhaité.\n",
    "\n",
    "On retrouvera ici la structure et les objectifs du projet [structure.ipynb](./structure.ipynb)<br><br>\n",
    "\n",
    "## [SIMS](./SIMS)\n",
    " - ### [main](./SIMS/main.py)\n",
    "    Ce fichier est le fichier principal du projet. Il constitue l'interface principale permettant de naviguer à travers les différentes fonctionalités du projet.\n",
    " - ### [deviation_magnetique](./SIMS/deviation_magnetique)\n",
    "    - #### [Equations](./SIMS/deviation_magnetique/Equations)\n",
    "        On y retrouve 2 fichiers : <br>\n",
    "            - [Schéma_partie_verte](./SIMS/deviation_magnetique/Equations/Schéma_partie_verte.png) : Schéma de la partie de déviation magnétique<br>\n",
    "            - [Trajectoire_champ_magnetique](./SIMS/deviation_magnetique/Equations/Trajectoire champ magnétique.ipynb) : Ce fichier nous guide à travers le raisonnement qui nous a mené jusqu'à l'équation de la trajectoire d'une particule qui traversait le champ magnétique de la partie verte du SIMS.<br><br><br>\n",
    "    - #### [Code](./SIMS/deviation_magnetique/Code)\n",
    "        On y retrouve 1 fichier :<br>\n",
    "            - [partie_electroaimant](./SIMS/deviation_magnetique/Code/partie_electroaimant.py) : Ce fichier est celui sur lequel on retrouve tout le code nécessaire pour remplir le premier objectif. <br><br><br>\n",
    "\n",
    " - ### [deviation_electrique](./SIMS/deviation_electrique)\n",
    "    - #### [Equations](./SIMS/deviation_electrique/Equations)\n",
    "    On y retrouve 4 fichiers : <br>\n",
    "        - [Schéma_partie_violette](./SIMS/deviation_electrique/Equations/schema_partie_violette.png) : Schéma de la partie de déviation électrique<br>\n",
    "        - [Schéma_racine](./SIMS/deviation_electrique/Equations/schema_partie_violette.png) : Schéma justifiant une décision lors d'une équation<br>\n",
    "        - [Calcul_angle_incident](./SIMS/deviation_electrique/Equations/Calcul angle incident.ipynb) : Ce fichier nous guide à travers le raisonnement qui nous a mené jusqu'à l'équation nous permettant de calculer l'angle incident.<br>\n",
    "        - [Calcul_champ_électrique](./SIMS/deviation_electrique/Equations/Calcul champ électrique.ipynb) : Ce fichier nous guide à travers le raisonnement qui nous a mené jusqu'à l'élaboration des équations d'une particule qui traverse le champ électrique de la partie violette du SIMS.<br><br><br>\n",
    "    - #### [Code](./SIMS/deviation_electrique/Code)\n",
    "        On y retrouve 2 fichiers : <br>\n",
    "            - [deviation](./SIMS/deviation_electrique/Code/deviation.py) : Ce fichier est celui sur lequel on retrouve le code nécessaire pour remplir le second objectif. <br>\n",
    "            - [incertitude](./SIMS/deviation_electrique/Code/incertitude.py) : Ce fichier est celui sur lequel on retrouve le code nécéssaire pour calculer l'incertitude sur le point de contact (Objectif Bonus)<br><br><br>\n",
    "\n",
    "\n",
    "### Fichiers/Dossiers Complémentaires\n",
    "On peut aussi trouver un fichier [SIMS diagram](./SIMS%20diagram.png) qui illustre le SIMS que l'on essaye de reproduire et un fichier [structure.ipynb](./structure.ipynb) qui énonce clairement nos objectifs et décortique les étapes par lesquelles on va passer pour y parvenir.\n",
    "\n",
    "\n",
    "\n",
    "\n",
    "\n"
   ]
  },
  {
   "cell_type": "markdown",
   "metadata": {},
   "source": []
  }
 ],
 "metadata": {
  "language_info": {
   "name": "python"
  }
 },
 "nbformat": 4,
 "nbformat_minor": 2
}
