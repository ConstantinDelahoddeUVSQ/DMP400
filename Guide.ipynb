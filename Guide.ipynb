{
 "cells": [
  {
   "cell_type": "markdown",
   "metadata": {},
   "source": [
    "<h1><center>Guide</center></h1>\n",
    "\n",
    "\n",
    "Notre objectif est de coder chaque partie du SIMS indépendamment l'une de l'autre. Dans cette mesure le projet est divisé en 2 parties (ou plus) indépendantes (les 2 parties du SIMS que l'on peut retrouver dans le diagramme : Bleue, qu'on considère prolongée jusqu'à l'échantillon (déviation électrique) et Verte (déviation magnétique). Nous pourrons également faire en option le reste des parties privées de la partie rose), et les utilisateurs pourront aborder le projet dans l'ordre souhaité.\n",
    "\n",
    "On retrouvera ici la structure [structure.ipynb](./structure.ipynb) et ici les objectifs du projet [objectifs.ipynb](./objectifs.ipynb)<br>\n",
    "On pourra retrouver les librairies python nécéssaires dans [requirements.txt](./requirements.txt) si on utilise les fichiers python plutôt que la version .exe [Simulateur_SIMS.exe](./SIMS/Simulateur_SIMS.exe)<br><br>\n",
    "\n",
    "## [SIMS](./SIMS)\n",
    " - ### [main.py](./SIMS/main.py)\n",
    "    - Ce fichier est le fichier principal du projet. Il constitue l'interface principale permettant de naviguer à travers les différentes fonctionalités du projet.\n",
    "- ### [Simulateur_SIMS.exe](./SIMS/Simulateur_SIMS.exe)\n",
    "    - Ce fichier est la version exécutable de [main.py](./SIMS/main.py) afin de permettre un lancement fluide accessible à tout le monde sans l'encombrement des librairies.\n",
    " - ### [deviation_magnetique](./SIMS/deviation_magnetique)\n",
    "    - #### [Equations](./SIMS/deviation_magnetique/Equations)\n",
    "        - On y retrouve 2 fichiers : <br>\n",
    "            - [Schéma_partie_verte](./SIMS/deviation_magnetique/Equations/Schéma_partie_verte.png) : Schéma de la partie de déviation magnétique<br>\n",
    "            - [Trajectoire_champ_magnetique](./SIMS/deviation_magnetique/Equations/Trajectoire_champ_magnétique.ipynb) : Ce fichier nous guide à travers le raisonnement qui nous a mené jusqu'à l'équation de la trajectoire d'une particule qui traversait le champ magnétique de la partie verte du SIMS.<br><br><br>\n",
    "    - #### [Code](./SIMS/deviation_magnetique/Code)\n",
    "        - On y retrouve 1 fichier :<br>\n",
    "            - [partie_electroaimant](./SIMS/deviation_magnetique/Code/partie_electroaimant.py) : Ce fichier est celui sur lequel on retrouve tout le code nécessaire pour remplir le premier objectif. <br><br><br>\n",
    "\n",
    " - ### [deviation_electrique](./SIMS/deviation_electrique)\n",
    "    - #### [Equations](./SIMS/deviation_electrique/Equations)\n",
    "    - On y retrouve 4 fichiers : <br>\n",
    "        - [Schéma_partie_bleue](./SIMS/deviation_electrique/Equations/schema_partie_bleue.png) : Schéma de la partie de déviation électrique (on considère que la partie bleue est prolongée jusqu'au contact de l'échantillon)<br>\n",
    "        - [Schéma_racine](./SIMS/deviation_electrique/Equations/schema_racine.png) : Schéma justifiant une décision lors d'une équation<br>\n",
    "        - [Calcul_angle_incident](./SIMS/deviation_electrique/Equations/Calcul_angle_incident.ipynb) : Ce fichier nous guide à travers le raisonnement qui nous a mené jusqu'à l'équation nous permettant de calculer l'angle incident.<br>\n",
    "        - [Calcul_trajectoire](./SIMS/deviation_electrique/Equations/Calcul_trajectoire.ipynb) : Ce fichier nous guide à travers le raisonnement qui nous a mené jusqu'à l'élaboration des équations d'une particule qui traverse le champ électrique de la partie violette du SIMS.<br><br><br>\n",
    "    - #### [Code](./SIMS/deviation_electrique/Code)\n",
    "        - On y retrouve 2 fichiers : <br>\n",
    "            - [deviation](./SIMS/deviation_electrique/Code/deviation.py) : Ce fichier est celui sur lequel on retrouve le code nécessaire pour remplir le second objectif. <br>\n",
    "            - [incertitude](./SIMS/deviation_electrique/Code/incertitude.py) : Ce fichier est celui sur lequel on retrouve le code nécéssaire pour calculer l'incertitude sur le point de contact (Objectif Bonus)<br><br><br>\n",
    "\n",
    "\n",
    "## [Vérifications_Calculs](./Vérifications_Calculs)<br>\n",
    " - On y retrouve 3 fichiers : <br>\n",
    "    - [Vérification_delta_xs](./Vérifications_Calculs/Vérification_delta_xs.ipynb) : Ce fichier est celui où nous verifions manuellement que le delta xs trouvé dans l'interface est correct <br>\n",
    "    - [Vérification_xs](./Vérifications_Calculs/Vérification_xs.py) : Ce fichier est celui où nous verifions manuellement que le xs trouvé dans la partie déviation est correct <br>\n",
    "    - [Vérification_champ_magnetique](./Vérifications_Calculs/Vérification_champ_magnetique.py) : Ce fichier est celui où nous verifions manuellement que la trajectoire trouvée dans la partie magnétique est correcte<br><br><br>\n",
    "\n",
    "## [Procédures_test](./Procédures_test)<br>\n",
    " - On y retrouve 4 fichiers : <br>\n",
    "    - [Procédures_test_Main](./Procédures_test/Procédures_test_Main.ipynb) : Ce fichier est celui où nous donnons les procédures de test du fichier [main.py](./SIMS/main.py) <br>\n",
    "    - [Procédures_test_partie_electroaimant](./Procédures_test/Procédures_test_partie_electroaimant.ipynb) : Ce fichier est celui où nous donnons les procédures de test du fichier [partie_electroaimant.py](./SIMS/deviation_magnetique/Code/partie_electroaimant.py) <br>\n",
    "    - [Procédures_test_déviation](./Procédures_test/Procédures_test_déviation.ipynb) : Ce fichier est celui où nous donnons les procédures de test du fichier [deviation.py](./SIMS/deviation_electrique/Code/deviation.py) <br>\n",
    "    - [Procédures_test_incertitudes](./Procédures_test/Procédures_test_incertitudes.ipynb) : Ce fichier est celui où nous donnons les procédures de test du fichier [incertitude.py](./SIMS/deviation_electrique/Code/incertitude.py) <br><br><br><br>\n",
    "\n",
    "On peut aussi trouver un fichier [SIMS diagram](./SIMS%20diagram.png) qui illustre le SIMS que l'on essaye de reproduire.\n",
    "\n",
    "\n",
    "\n",
    "\n",
    "\n"
   ]
  },
  {
   "cell_type": "markdown",
   "metadata": {},
   "source": []
  }
 ],
 "metadata": {
  "language_info": {
   "name": "python"
  }
 },
 "nbformat": 4,
 "nbformat_minor": 2
}
