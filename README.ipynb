{
 "cells": [
  {
   "cell_type": "markdown",
   "metadata": {},
   "source": [
    "# Guide \n",
    "\n",
    "\n",
    "Notre objectif est de coder chaque partie du SIMS indépendamment l'une de l'autre. Dans cette mesure le projet est divisé en 4 parties indépendantes (les 4 parties du SIMS que l'on peut retrouver dans le diagramme sans compter la partie rose), et les utilisateurs peuvent et pourront aborder le projet dans l'ordre souhaité.  \n",
    "\n",
    "### Partie Verte\n",
    "On y retrouve deux fichiers, [Equations.ipynb](./SIMS/Partie%20Verte%20%28Déviation%20magnétique%29/Equations.ipynb)\n",
    " et [partie_electroaimant.py](./SIMS/Partie%20Verte%20%28Déviation%20magnétique%29/partie_electroaimant.py). Le premier nous guide a travers le raisonnement qui nous a mené jusqu'à l'équation de la trajectoire d'une particule qui traversait le champ magnétique de la partie verte du SIMS. Le deuxième fichier est celui sur lequel on retrouve tout le code nécessaire pour remplir le premier objectif. \n",
    "\n",
    "### Partie Bleue \n",
    "On y retrouve deux dossiers, [Code](./SIMS/Partie%20Bleue%20%28accélération%29/Code) et [Equations](./SIMS/Partie%20Bleue%20%28accélération%29/Equations). Dans le dossier Equations, il y deux fichiers [Calcul angle incident.ipynb](./SIMS/Partie%20Bleue%20%28accélération%29/Equations/Calcul%20angle%20incident.ipynb) et [Calcul champ électrique.ipynb](./SIMS/Partie%20Bleue%20%28accélération%29/Equations/Calcul%20champ%20électrique.ipynb). Le premier nous guide a travers le raisonnement qui nous a mené jusqu'à . Le deuxième nous guide a travers le raisonnement qui nous a mené jusqu'à l'élaboration des équations d'une particule qui traverse le champ électrique de la partie bleue accélératrice du SIMS.\n",
    "Dans le dossier code, il y a un fichier [champ_electrique.py](./SIMS/Partie%20Bleue%20%28accélération%29/Code/champ_electrique.py), dossier dans lequel on retrouve tout le code nécessaire pour remplir le deuxième objectif. \n",
    "\n",
    "\n",
    "### Fichiers Complémentaires\n",
    "On peut aussi trouver un fichier [SIMS diagram](./SIMS%20diagram.png) qui illustre le SIMS que l'on essaye de reproduire et un fichier [structure.ipynb](./structure.ipynb) qui énonce clairement nos objectifs et décortique les étapes par lesquelles on va passer pour y parvenir.\n",
    "\n",
    "\n",
    "\n",
    "\n",
    "\n"
   ]
  },
  {
   "cell_type": "markdown",
   "metadata": {},
   "source": []
  }
 ],
 "metadata": {
  "language_info": {
   "name": "python"
  }
 },
 "nbformat": 4,
 "nbformat_minor": 2
}
