{
 "cells": [
  {
   "cell_type": "markdown",
   "metadata": {},
   "source": [
    "# Champ électrique"
   ]
  },
  {
   "cell_type": "markdown",
   "metadata": {},
   "source": [
    "L'expression de la force de Lorentz est donnée par :\n",
    "$$\n",
    "\\vec{f} = q(\\vec{E} + \\vec{v}\\wedge\\vec{B}),\n",
    "$$\n",
    "avec $\\vec{E}$ le champ magnétique, $\\vec{B}$ le champ magnétique, et q la charge de la particule que l'on considère.\n",
    "\n",
    "Ici, on suppose un champ électrique constant dans l'espace, et un champ magnétique nul.\n",
    "\n",
    "Ainsi, on a : \n",
    "$$    \n",
    "\\boldsymbol{\\vec{f}} = \\boldsymbol{\\vec{F}_E} = \\boldsymbol{q}\\boldsymbol{\\vec{E}}\n",
    "$$\n",
    "\n",
    "On applique ensuite le Principe Fondamental de la Dynamique à notre particule.\n",
    "$$\n",
    "\\sum\\vec{F_ext} = m \\vec{a}\n",
    "$$\n",
    "\n",
    "\n",
    "\n",
    "$$\n",
    "\\Rightarrow\n",
    "\\begin{pmatrix}\n",
    "E_x \\\\\n",
    "E_y \\\\\n",
    "E_z\n",
    "\\end{pmatrix}\n",
    "=\n",
    "\\frac{m}{q}\n",
    "\\begin{pmatrix}\n",
    "a_x \\\\\n",
    "a_y \\\\\n",
    "a_z\n",
    "\\end{pmatrix}\n",
    "$$\n",
    "\n",
    "## En projetant :\n",
    "\n",
    "$$\n",
    "\\begin{cases}\n",
    "v_x = \\frac{q}{m} E_x t + C_1 \\\\\n",
    "v_y = \\frac{q}{m} E_y t + C_2 \\\\\n",
    "v_z = \\frac{q}{m} E_z t + C_3\n",
    "\\end{cases}\n",
    "$$\n",
    "\n",
    "$$\n",
    "\\Rightarrow\n",
    "\\begin{cases}\n",
    "x(t) = \\frac{q}{2m} E_x t^2 + C_1 t + C_1 \\\\\n",
    "y(t) = \\frac{q}{2m} E_y t^2 + C_2 t + C_2 \\\\\n",
    "z(t) = \\frac{q}{2m} E_z t^2 + C_3 t + C_3\n",
    "\\end{cases}\n",
    "$$\n",
    "\n",
    "*C.I.*\n"
   ]
  }
 ],
 "metadata": {
  "kernelspec": {
   "display_name": "in200",
   "language": "python",
   "name": "python3"
  },
  "language_info": {
   "name": "python",
   "version": "3.12.2"
  }
 },
 "nbformat": 4,
 "nbformat_minor": 2
}
