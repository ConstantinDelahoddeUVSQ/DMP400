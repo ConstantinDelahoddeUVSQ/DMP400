{
 "cells": [
  {
   "cell_type": "markdown",
   "id": "0186dc93",
   "metadata": {},
   "source": [
    "### Procédure de test et fonctionnement de `main`\n",
    "\n",
    "**`1. Tests d’interface utilisateur (UI)`**\n",
    "\n",
    "| Ordre de test |\tFonctionnalité\t            | Procédure\t                                | Données de test\t| Résultat attendu                            |\n",
    "|---------|-----------------------------|-------------------------------------------|-------------------|---------------------------------------------|\n",
    "| 1   | Lancement de l'application\t| Lancer le programme depuis un terminal\t| Aucune\t        | La fenêtre principale s'affiche sans erreur |\n",
    "| 2\t|Affichage de la section particules\t|Vérifier l’apparition de la zone \"Gestion des Particules\"|\tAucune\t|Les champs de masse, charge, bouton  Ajouter\", et la table s’affichent|\n",
    "|3\t|Navigation entre onglets|\tCliquer sur les onglets \"Déviation Magnétique\" et \"Déviation Électrique\"\t|Aucune\t|Les contenus associés changent sans bug|\n",
    "|4\t|Affichage des sliders|\tCocher \"Tracer dynamiquement\"\t|Aucune|\tLes sliders de Bz et V0 apparaissent avec labels mis à jour|\n",
    "\n",
    "**`2. Tests de simulation magnétique`**\n",
    "\n",
    "|Ordre de test|\tFonctionnalité\t|Procédure\t|Données de test\t|Résultat attendu|\n",
    "|-------------|-----------------|-----------|-------------------|----------------|\n",
    "|1|\tTracer une déviation magnétique (statique)\t|Ajouter une particule, entrer V0=1e6, Bz=1, cliquer sur \"Tracer Déviation Magnétique\"|\tMasse=1, Charge=1, V0=1e6, Bz=1\t|Le graphe est tracé dans la zone de droite|\n",
    "|2|\tTracer dynamique (slider)\t|Cocher \"Tracer dynamiquement\", déplacer un slider|\tBz entre 0.001 et 1|\tLe graphe se met à jour automatiquement|\n",
    "|3|\tLimite de champ magnétique\t|Entrer Bz=0 ou V0=0, |tracer\tBz=0\t|Un message d'erreur s'affiche|\n",
    "\n",
    "**`3. Tests de mise à jour dynamique des labels`**\n",
    "\n",
    "|Ordre de test|\tFonctionnalité\t|Procédure\t|Données de test\t|Résultat attendu|\n",
    "|-------------|-----------------|-----------|-------------------|----------------|\n",
    "|1|\tSlider Bz|\tBouger le slider| Bz\tde 0.001 à 1.0|\tLe label affiche la valeur actuelle en T|\n",
    "|2|\tSlider V0|\tBouger le slider| V0\tde 1e6 à 1e7| Le label affiche la vitesse en notation scientifique|\n",
    "\n",
    "**`4. Tests fonctionnels : Déviation électrique`**\n",
    "\n",
    "|Ordre de test|\tFonctionnalité\t|Procédure\t|Données de test\t|Résultat attendu|\n",
    "|-------------|-----------------|-----------|-------------------|----------------|\n",
    "|1|\tAffichage champ électrique simple|\tLancer l’application|\tCase “Tracer dynamiquement” décochée|\tSaisie texte de potentiel visible, slider caché|\n",
    "|2|\tAffichage champ électrique dynamique|\tClic sur la case “Tracer dynamiquement”|\tCase cochée\t|Potentiel par slider visible, saisie texte cachée|\n",
    "|3|\tVérif. saisie vitesse initiale < 0|\tBouton “Tracer”|\tv₀ = -100|\tMessage d’erreur “V0 > 0 requis”, pas de simulation|\n",
    "|4|\tVérif. angle hors limites\t|Bouton “Tracer”\t|angle = 100°\t|Message d’erreur “Angle doit être entre 0° et 90°”|\n",
    "|5|\tSimulation champ électrique valide|\tBouton “Tracer”|\tParticule (1u, +1e), v₀ = 1e6, U = 500, angle = 45°, distance = 0.1\tTracé réalisé, message “Tracé déviation électrique terminé.”|\n",
    "|6|\tSimulation dynamique par slider|\tBouger le slider de potentiel\t|Particule valide, mode dynamique activé\t|Tracé mis à jour en temps réel, label potentiel mis à jour|\n",
    "\n",
    "**`5. Tests fonctionnels : Gestion des particules`**\n",
    "\n",
    "|Ordre de test|\tFonctionnalité\t|Procédure\t|Données de test\t|Résultat attendu|\n",
    "|-------------|-----------------|-----------|-------------------|----------------|\n",
    "|1|\tAjout d’une particule valide|\tCliquer “Ajouter particule”|\tmasse = 1.0, charge = +1\t|Particule ajoutée à la liste, message de confirmation|\n",
    "|2|\tAjout masse nulle ou négative\t|Cliquer “Ajouter particule”|\tmasse = 0, charge = +1\t|Message d’erreur : “Masse doit être > 0.”|\n",
    "|T3|\tAjout d’une particule déjà existante|\tCliquer “Ajouter particule”\t|masse/charge déjà dans la liste|\tMessage d’erreur “Particule déjà dans la liste”|\n",
    "|4|\tAjout charge de signe opposé\t|Cliquer “Ajouter particule”|\tcharge opposée à celle des particules existantes|\tMessage d’erreur “Veuillez rentrer des particules de charge identique”|\n",
    "|5|\tSuppression sans sélection\t|Cliquer “Supprimer”\t|Aucune particule sélectionnée\t|Message : “Veuillez sélectionner une particule à supprimer”|\n",
    "|6|\tSuppression d’une particule|\tCliquer “Supprimer”\t|Une ou plusieurs particules sélectionnées\t|Particule supprimée, message de confirmation|"
   ]
  },
  {
   "cell_type": "markdown",
   "id": "38b9800b",
   "metadata": {},
   "source": []
  }
 ],
 "metadata": {
  "language_info": {
   "name": "python"
  }
 },
 "nbformat": 4,
 "nbformat_minor": 5
}
