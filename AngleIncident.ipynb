{
 "cells": [
  {
   "cell_type": "markdown",
   "metadata": {},
   "source": [
    "On considere la plaque (échantillion) chargée uniformément en volume de charge Q.\n",
    "\n",
    "Calculons $$ \\vec{E} $$ :\n",
    "\n",
    "On considère E uniquement selon ey en négligeant les effets de bord. (Approximation de la plaque infinie) donc $$\\vec{E} = E \\vec{e}_{{y}}$$\n",
    "\n",
    "Théorème de Gauss :\n",
    "\n",
    "$$ \\int_{S1} \\vec{E} = E \\, (d{S}_{1})  \\vec{ e}_{y}\\ + \\int_{S2} \\vec{-E} = E \\, (-d{S}_{2})  \\vec{ e}{y}\\ + \\int_{S3} \\vec{E} = E \\, (d{S}_{3})  \\vec{ u}_{r}\\  =  \\frac{Qint}{\\epsilon} $$\n",
    "$$ avec  \\ dS2 \\geq \\ 0 $$\n",
    "\n",
    "$$ \n",
    "\\iff 2E\\pi r^2 = \\frac{Qint}{\\epsilon} $$\n",
    "\n",
    "$$ \n",
    "\\iff 2E\\pi r^2 = \\frac{\\pi r^2 Q}{S\\epsilon} $$\n",
    "avec S la surface totale de la palque \n",
    "\n",
    "$$ \n",
    "\\iff E = \\frac{q0}{2S\\epsilon}$$\n",
    "donc $$ \\vec{E} = \\frac{Q}{2S\\epsilon}\\vec{e}{y}\\ $$\n",
    "\n",
    "Trouvons l'angle incident final : \n",
    "On considère le faisceau de particules arrivant avec un angle incident de Θ avec \n",
    "$$ \\vec{e}_{y} $$ \n",
    "et une vitesse initiale \n",
    "$$ \\vec{v}_{0}. $$\n",
    "On considère que les particules sont qoumises au champ crée par la plaque à partir du point \n",
    "$$ ({x}_{0}, {y}_{0}). $$ \n",
    "D'après les équations d'une particules de chatges q et masse m. \n",
    "\n",
    "$$ \n",
    "x(t) = \\frac{q}{2m} t^2 \\vec{E}.\\vec{e}_{y} + \\vec{v}_{0}.\\vec{e}_{x} t + x_{0} \\quad(1)$$\n",
    "$$\n",
    "y(t) = \\frac{q}{2m} t^2 \\vec{E}.\\vec{e}_{y} + \\vec{v}_{0}.\\vec{e}_{x} t + y_{0} \\quad(2) $$\n",
    "\n",
    "$$\n",
    "(1) \\iff t = \\frac{x - x_{0}}{\\vec{v}_{0}.\\vec{e}_{x}} $$\n",
    "$$\n",
    "(2) \\iff y(x) = \\frac{q}{2m}(\\frac{x - x_{0}}{\\vec{v}_{0}.\\vec{e}_{y}}^2 )\\vec{E}. \\vec{e}_{y} + \\vec{v}_{0}.\\vec{e}_{y}(\\frac{x - x _{0}}{\\vec{v}_{0}.\\vec{e}_{y}}) + y_{0} $$\n"
   ]
  },
  {
   "cell_type": "markdown",
   "metadata": {},
   "source": []
  }
 ],
 "metadata": {
  "language_info": {
   "name": "python"
  }
 },
 "nbformat": 4,
 "nbformat_minor": 2
}
