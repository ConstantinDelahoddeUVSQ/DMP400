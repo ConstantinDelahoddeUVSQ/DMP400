{
 "cells": [
  {
   "cell_type": "markdown",
   "id": "2a46875d",
   "metadata": {},
   "source": []
  }
 ],
 "metadata": {
  "language_info": {
   "name": "python"
  }
 },
 "nbformat": 4,
 "nbformat_minor": 5
}
